{
    "cells": [
        {
            "cell_type": "markdown",
            "metadata": {
                "collapsed": true
            },
            "source": "# Capstone Project\n## Investigating the relationship between the spread of COVID-19 and income/education levels in the United States."
        },
        {
            "cell_type": "markdown",
            "metadata": {},
            "source": "## 1. Introduction\n### As the COVID-19 pandemic rages on, the world continues to learn more about the virus and its spread. Though many countries have made huge strides in fighting the virus, the United States struggles to effectively address and contain its spread on a large scale. As some larger cities begin to find success in \"bending the curve\", rural communities now appear to be suffering a delayed spike in cases and deaths. Many of these same communities (in some cases entire states) made conscious choices to not take significant action in the early stages of the pandemic, driven at least in part by the argument for civil liberty and personal choice. In this project, I will investigate possible connections to this resistance to implement large-scale public safety measures. In particular, I will try to determine whether education and income levels have played a part in communities' responses to this global crisis."
        },
        {
            "cell_type": "markdown",
            "metadata": {},
            "source": "## 2. Data\n\n### Data on education levels comes from the U.S. Department of Agriculture. It provides information at the county level, including total number of adults and percentage of adults who have attained varying levels of education, provided as an average from 2014-2018.\n\n### Data on employment and income also comes from the USDA. It provides information at the county level by year, including unemployment rate, number of unemployed residents, and median household income.\n\n### Up to date information on COVID cases comes from John Hopkins University. They provide state- and county-wide data, including total cases, mortality "
        },
        {
            "cell_type": "code",
            "execution_count": null,
            "metadata": {},
            "outputs": [],
            "source": ""
        }
    ],
    "metadata": {
        "kernelspec": {
            "display_name": "Python 3.6",
            "language": "python",
            "name": "python3"
        },
        "language_info": {
            "codemirror_mode": {
                "name": "ipython",
                "version": 3
            },
            "file_extension": ".py",
            "mimetype": "text/x-python",
            "name": "python",
            "nbconvert_exporter": "python",
            "pygments_lexer": "ipython3",
            "version": "3.6.9"
        }
    },
    "nbformat": 4,
    "nbformat_minor": 1
}